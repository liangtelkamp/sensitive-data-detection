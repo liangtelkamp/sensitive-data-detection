{
 "cells": [
  {
   "cell_type": "code",
   "execution_count": null,
   "metadata": {},
   "outputs": [],
   "source": [
    "import argparse\n",
    "from utilities.train_unsloth import UnslothFinetuner\n",
    "\n",
    "parser = argparse.ArgumentParser(description=\"Fine-tune a model using Unsloth.\")\n",
    "parser.add_argument(\n",
    "    \"--csv_path\",\n",
    "    type=str,\n",
    "    default=\"personal/syndata/dataset.csv\",\n",
    "    help=\"Path to the training CSV file.\",\n",
    ")\n",
    "parser.add_argument(\n",
    "    \"--model_name\",\n",
    "    type=str,\n",
    "    default=\"unsloth/gemma-2-9b-it\",\n",
    "    help=\"Model name. Supported: unsloth/gemma-2-9b-it, unsloth/Qwen3-8B, unsloth/Qwen3-14B\",\n",
    ")\n",
    "parser.add_argument(\n",
    "    \"--output_dir\",\n",
    "    type=str,\n",
    "    default=\"finetuned_model\",\n",
    "    help=\"Directory to save the fine-tuned model.\",\n",
    ")\n",
    "parser.add_argument(\"--epochs\", type=int, default=1, help=\"Number of training epochs.\")\n",
    "args = parser.parse_args()\n",
    "\n",
    "trainer = UnslothFinetuner(\n",
    "    csv_path=args.csv_path,\n",
    "    model_name=args.model_name,\n",
    "    output_dir=args.output_dir,\n",
    "    epochs=args.epochs,\n",
    ")\n",
    "trainer.train()\n"
   ]
  }
 ],
 "metadata": {
  "kernelspec": {
   "display_name": "Python 3",
   "language": "python",
   "name": "python3"
  },
  "language_info": {
   "name": "python",
   "version": "3.11"
  }
 },
 "nbformat": 4,
 "nbformat_minor": 5
}
